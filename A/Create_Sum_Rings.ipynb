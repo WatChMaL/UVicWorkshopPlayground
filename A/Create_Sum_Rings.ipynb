{
 "cells": [
  {
   "cell_type": "code",
   "execution_count": 1,
   "metadata": {},
   "outputs": [],
   "source": [
    "from utils import progress_bar\n",
    "import numpy as np\n",
    "from iotools import loader_factory\n",
    "import matplotlib.pyplot as plt\n",
    "%matplotlib inline\n",
    "\n",
    "def Create_Sum_Rings( DATA_DIRS=['/data/hkml_data/IWCDgrid/varyE/e-'], flavour='100k.h5', \n",
    "                      output_file='/data/jamieson/data/e-_tworing.npz' ):\n",
    "\n",
    "                     \n",
    "    loader=loader_factory('H5Dataset', batch_size=2, \n",
    "                          shuffle=True, num_workers=4, data_dirs=DATA_DIRS, \n",
    "                          flavour=flavour, start_fraction=0.0, use_fraction=1.0,\n",
    "                          read_keys=[ 'event_data', 'labels','directions', 'energies', 'pids', 'positions'])    \n",
    "    #output lists\n",
    "    ev_data=[]\n",
    "    labels=[]\n",
    "    pids=[]\n",
    "    positions=[]\n",
    "    directions=[]\n",
    "    energies=[]\n",
    "    \n",
    "    #charge and time data in tqev1,tqev2,tqev3\n",
    "    tqev1=[]\n",
    "    tqev2=[]\n",
    "    tqev3=[]\n",
    "    progress = display(progress_bar(0,len(loader)),display_id=True)\n",
    "    for i,evt in enumerate(loader):    \n",
    "        if ( i==0 or (i+1)%100==0) :\n",
    "            progress.update( progress_bar(i+1,len(loader),\"Progress\"))\n",
    "        tqev1 = evt[0][0]\n",
    "        tqev2 = evt[0][1]\n",
    "        tqev3 = np.copy( tqev2 )                                # make a copy of event_data to tqev3\n",
    "        tqev3[:,:,0] = tqev1[:,:,0] + tqev2[:,:,0]              # add charges\n",
    "        tqev3[:,:,1] = np.maximum( tqev1[:,:,1], tqev2[:,:,1])  # take maximum time\n",
    "        \n",
    "        ev_data.append( np.expand_dims( tqev3, axis=0 ) )\n",
    "        labels.append(     [ evt[1][0], evt[1][1] ] )\n",
    "        directions.append( [ evt[2][0], evt[2][1] ] )  \n",
    "        energies.append(   [ evt[3][0], evt[3][1] ] )  \n",
    "        pids.append(       [ evt[4][0], evt[4][1] ] )  \n",
    "        positions.append(  [ evt[5][0], evt[5][1] ] )  \n",
    "        \n",
    "    print(\"Create_Sum_Rings finished loop over events\")  \n",
    "    all_events=np.concatenate(ev_data)\n",
    "    all_labels=np.asarray(labels)\n",
    "    all_pids=np.asarray(pids)\n",
    "    all_positions=np.asarray(positions)\n",
    "    all_directions=np.asarray(directions)\n",
    "    all_energies=np.asarray(energies)\n",
    "    print(\"Begin data compress\")\n",
    "    np.savez_compressed(output_file,\n",
    "                    event_data=all_events,\n",
    "                    labels=all_labels,\n",
    "                    pids=all_pids,\n",
    "                    positions=all_positions,\n",
    "                    directions=all_directions,\n",
    "                    energies=all_energies)\n",
    "    print(\"Done Create_Sum_Rings\")\n"
   ]
  },
  {
   "cell_type": "code",
   "execution_count": null,
   "metadata": {},
   "outputs": [
    {
     "data": {
      "text/html": [
       "\n",
       "        <progress \n",
       "            value='100'\n",
       "            max='50000',\n",
       "            style='width: 30%'\n",
       "        >\n",
       "            100\n",
       "        </progress> 0% Progress\n",
       "    "
      ],
      "text/plain": [
       "<IPython.core.display.HTML object>"
      ]
     },
     "metadata": {},
     "output_type": "display_data"
    }
   ],
   "source": [
    "Create_Sum_Rings()\n",
    "print(\"Done.\")"
   ]
  },
  {
   "cell_type": "code",
   "execution_count": null,
   "metadata": {},
   "outputs": [],
   "source": []
  }
 ],
 "metadata": {
  "kernelspec": {
   "display_name": "Python 2",
   "language": "python",
   "name": "python2"
  },
  "language_info": {
   "codemirror_mode": {
    "name": "ipython",
    "version": 2
   },
   "file_extension": ".py",
   "mimetype": "text/x-python",
   "name": "python",
   "nbconvert_exporter": "python",
   "pygments_lexer": "ipython2",
   "version": "2.7.12"
  }
 },
 "nbformat": 4,
 "nbformat_minor": 2
}
