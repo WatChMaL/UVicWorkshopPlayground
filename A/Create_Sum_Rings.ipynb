{
 "cells": [
  {
   "cell_type": "code",
   "execution_count": 1,
   "metadata": {},
   "outputs": [],
   "source": [
    "from utils import progress_bar\n",
    "import numpy as np\n",
    "from iotools import loader_factory\n",
    "import matplotlib.pyplot as plt\n",
    "%matplotlib inline\n",
    "\n",
    "def Create_Sum_Rings( DATA_DIRS=['/data/hkml_data/IWCDgrid/varyE/e-'], flavour='100k.h5', \n",
    "                      output_file='/data/UVicWorkshopPlayground/A/data/e-_tworing.npz' ):\n",
    "\n",
    "                     \n",
    "    loader=loader_factory('H5Dataset', batch_size=2, \n",
    "                          shuffle=True, num_workers=4, data_dirs=DATA_DIRS, \n",
    "                          flavour=flavour, start_fraction=0.0, use_fraction=1.0,\n",
    "                          read_keys=[ 'event_data', 'labels','directions', 'energies', 'pids', 'positions'])    \n",
    "    #output lists\n",
    "    ev_data=[]\n",
    "    labels=[]\n",
    "    mring_labels=[]\n",
    "    pids=[]\n",
    "    positions=[]\n",
    "    directions=[]\n",
    "    energies=[]\n",
    "    \n",
    "    #charge and time data in tqev1,tqev2,tqev3\n",
    "    tqev1=[]\n",
    "    tqev2=[]\n",
    "    tqev3=[]\n",
    "    progress = display(progress_bar(0,len(loader)),display_id=True)\n",
    "    for i,evt in enumerate(loader):    \n",
    "        if ( i==0 or (i+1)%100==0) :\n",
    "            progress.update( progress_bar(i+1,len(loader),\"Progress\"))\n",
    "        tqev1 = evt[0][0]\n",
    "        tqev2 = evt[0][1]\n",
    "        tqev3 = np.copy( tqev2 )                                # make a copy of event_data to tqev3\n",
    "        tqev3[:,:,0] = tqev1[:,:,0] + tqev2[:,:,0]              # add charges\n",
    "        tqev3[:,:,1] = np.maximum( tqev1[:,:,1], tqev2[:,:,1])  # take maximum time\n",
    "        \n",
    "        ev_data.append( np.expand_dims( tqev3, axis=0 ) )\n",
    "        labels.append(       0 )\n",
    "        mring_labels.append( [ evt[1][0], evt[1][1] ] )\n",
    "        directions.append(   [ evt[2][0], evt[2][1] ] )  \n",
    "        energies.append(     [ evt[3][0], evt[3][1] ] )  \n",
    "        pids.append(         [ evt[4][0], evt[4][1] ] )  \n",
    "        positions.append(    [ evt[5][0], evt[5][1] ] )  \n",
    "        \n",
    "    print(\"Create_Sum_Rings finished loop over events\")  \n",
    "    all_events=np.concatenate(ev_data)\n",
    "    all_labels=np.asarray(labels)\n",
    "    all_mringlabels=np.asarray(mring_labels)\n",
    "    all_pids=np.asarray(pids)\n",
    "    all_positions=np.asarray(positions)\n",
    "    all_directions=np.asarray(directions)\n",
    "    all_energies=np.asarray(energies)\n",
    "    print(\"Begin data compress\")\n",
    "    np.savez_compressed(output_file,\n",
    "                    event_data=all_events,\n",
    "                    labels=all_labels,\n",
    "                    pids=all_pids,\n",
    "                    positions=all_positions,\n",
    "                    directions=all_directions,\n",
    "                    energies=all_energies,\n",
    "                    mring_labels=all_mringlabels)\n",
    "    print(\"Done Create_Sum_Rings\")\n"
   ]
  },
  {
   "cell_type": "code",
   "execution_count": 2,
   "metadata": {},
   "outputs": [
    {
     "data": {
      "text/html": [
       "\n",
       "        <progress \n",
       "            value='50000'\n",
       "            max='50000',\n",
       "            style='width: 30%'\n",
       "        >\n",
       "            50000\n",
       "        </progress> 100% Progress\n",
       "    "
      ],
      "text/plain": [
       "<IPython.core.display.HTML object>"
      ]
     },
     "metadata": {},
     "output_type": "display_data"
    },
    {
     "name": "stdout",
     "output_type": "stream",
     "text": [
      "Create_Sum_Rings finished loop over events\n",
      "Begin data compress\n",
      "Done Create_Sum_Rings\n",
      "Done.\n"
     ]
    }
   ],
   "source": [
    "Create_Sum_Rings()\n",
    "print(\"Done.\")"
   ]
  },
  {
   "cell_type": "code",
   "execution_count": 3,
   "metadata": {},
   "outputs": [],
   "source": [
    "from __future__ import print_function\n",
    "from __future__ import division\n",
    "from __future__ import absolute_import\n",
    "import numpy as np\n",
    "import sys, h5py, tables, os\n",
    "\n",
    "def make_h5(file_list,output_file):\n",
    "    \"\"\"\n",
    "    Args: file_list ... list, files to be taken as input\n",
    "          output_file ... string, name of an output h5 file\n",
    "    \"\"\"\n",
    "\n",
    "    print('Will process',len(file_list),'files...')\n",
    "\n",
    "    # Create output file\n",
    "    FILTERS   = tables.Filters(complib='zlib', complevel=5)\n",
    "    output    = tables.open_file(output_file,mode='w',filters=FILTERS)\n",
    "    out_ndarray = {}\n",
    "    out_1darray = {}\n",
    "    label     = None\n",
    "\n",
    "    # Loop over files, read data & store\n",
    "    # For labels, since it's a small 1D array, we store all at the end\n",
    "    # For event_data, they will be appended file-by-file\n",
    "    for file_index,file_name in enumerate(file_list):\n",
    "        # Open file\n",
    "        f = np.load(file_name)\n",
    "\n",
    "        for key in f.keys():\n",
    "            data_shape = f[key].shape\n",
    "            if len(data_shape) < 2:\n",
    "                if not key in out_1darray: out_1darray[key]=f[key].astype(np.float32)\n",
    "                else: out_1darray[key] = np.hstack([out_1darray[key],f[key].astype(np.float32)])\n",
    "            else:\n",
    "                if not key in out_ndarray:\n",
    "                    chunk_shape = [1] + list(data_shape[1:])\n",
    "                    data_shape  = [0] + list(data_shape[1:])\n",
    "                    out_ndarray[key] = output.create_earray(output.root,key,tables.Float32Atom(),chunkshape=chunk_shape,shape=data_shape)\n",
    "                out_ndarray[key].append(f[key].astype(np.float32))\n",
    "\n",
    "        sys.stdout.write('Progress: %1.3f\\r' % (float(file_index+1)/len(file_list)))\n",
    "        sys.stdout.flush()\n",
    "    sys.stdout.write('\\n')\n",
    "    # Create chunked-array to store 1D arrays\n",
    "    for key in out_1darray:\n",
    "        data = out_1darray[key]\n",
    "        out_data = output.create_carray(output.root, key, tables.Float32Atom(), shape=data.shape)\n",
    "        out_data[:] = data\n",
    "\n",
    "    # Report what's stored\n",
    "    print('\\nFinished!\\n')\n",
    "    # Close output file\n",
    "    output.close()\n",
    "\n",
    "    import h5py\n",
    "    f=h5py.File(output_file,mode='r')\n",
    "    print('Stored keys:',f.keys())\n",
    "    for key in f.keys():\n",
    "        print('    %s ... shape %s' % (key,f[key].shape))"
   ]
  },
  {
   "cell_type": "code",
   "execution_count": 4,
   "metadata": {},
   "outputs": [
    {
     "name": "stdout",
     "output_type": "stream",
     "text": [
      "Will process 1 files...\n",
      "Progress: 1.000\n",
      "\n",
      "Finished!\n",
      "\n",
      "Stored keys: [u'directions', u'energies', u'event_data', u'labels', u'mring_labels', u'pids', u'positions']\n",
      "    directions ... shape (50000, 2, 88, 168, 2)\n",
      "    energies ... shape (50000, 2)\n",
      "    event_data ... shape (50000, 88, 168, 2)\n",
      "    labels ... shape (50000,)\n",
      "    mring_labels ... shape (50000, 2)\n",
      "    pids ... shape (50000, 2, 1, 3)\n",
      "    positions ... shape (50000, 2, 1)\n"
     ]
    }
   ],
   "source": [
    "make_h5(['/data/UVicWorkshopPlayground/A/data/e-_tworing.npz'],'e-_tworing_100k.h5')"
   ]
  },
  {
   "cell_type": "code",
   "execution_count": null,
   "metadata": {},
   "outputs": [],
   "source": []
  }
 ],
 "metadata": {
  "kernelspec": {
   "display_name": "Python 2",
   "language": "python",
   "name": "python2"
  },
  "language_info": {
   "codemirror_mode": {
    "name": "ipython",
    "version": 2
   },
   "file_extension": ".py",
   "mimetype": "text/x-python",
   "name": "python",
   "nbconvert_exporter": "python",
   "pygments_lexer": "ipython2",
   "version": "2.7.12"
  }
 },
 "nbformat": 4,
 "nbformat_minor": 2
}
