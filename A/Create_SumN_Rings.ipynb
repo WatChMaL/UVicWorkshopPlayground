{
 "cells": [
  {
   "cell_type": "code",
   "execution_count": 4,
   "metadata": {},
   "outputs": [],
   "source": [
    "from utils import progress_bar\n",
    "import numpy as np\n",
    "from iotools import loader_factory\n",
    "import matplotlib.pyplot as plt\n",
    "%matplotlib inline\n",
    "\n",
    "def Create_SumN_Rings( DATA_DIRS=['/data/hkml_data/IWCDgrid/varyE/e-'], flavour='100k.h5', \n",
    "                      output_file='/data/jamieson/data/e-_tworing.npz', nsum=2 ):\n",
    "    \"\"\"\n",
    "        Build file with nsum events put into a single event.  \n",
    "        The charges are summed, and the latest time is taken.\n",
    "        If nsum is a floating point number, then sum a random\n",
    "        uniform distributed number of electrons (but never give zero!).\n",
    "        Also, make maximum rings per event 6.0!\n",
    "    \"\"\"\n",
    "    maxrings=6.0\n",
    "    if type(nsum) == int:\n",
    "        if nsum > maxrings: nsum = 6\n",
    "    else:\n",
    "        if nsum < 1.0 : nsum =1.0\n",
    "        if nsum > maxrings: nsum = 6.0\n",
    "        \n",
    "    loader=loader_factory('H5Dataset', batch_size=1, \n",
    "                          shuffle=True, num_workers=4, data_dirs=DATA_DIRS, \n",
    "                          flavour=flavour, start_fraction=0.0, use_fraction=0.5,\n",
    "                          read_keys=[ 'event_data', 'labels','directions', 'energies', 'pids', 'positions'])    \n",
    "    #output lists\n",
    "    ev_data=[]\n",
    "    labels=[]\n",
    "    pids=[]\n",
    "    positions=[]\n",
    "    directions=[]\n",
    "    energies=[]\n",
    "    mring_labels=[]\n",
    "    \n",
    "    #charge and time data in tqev1,tqev2,tqev3\n",
    "    tqevs=[]\n",
    "    tqevsum=[]\n",
    "    nevavail=0\n",
    "    nevget=0\n",
    "    progress = display(progress_bar(0,len(loader)),display_id=True)\n",
    "    for i,evt in enumerate(loader): \n",
    "        if ( i==0 or (i+1)%100==0) :\n",
    "            progress.update( progress_bar(i+1,len(loader),\"Progress\"))\n",
    "            \n",
    "        while nevget == 0 or nevget > maxrings:\n",
    "            tqevs = []\n",
    "            if type(nsum) == int: \n",
    "                nevget = nsum\n",
    "            else:\n",
    "                nevget = np.random.randint(1,maxrings+1) \n",
    "            \n",
    "        tqevs.append( evt )\n",
    "        nevavail = nevavail + 1\n",
    "        #print(\"nsum,nevavail,nevget=\",nsum,nevavail,nevget)\n",
    "        \n",
    "        if nevavail == nevget:  # have enough events, now do sum\n",
    "            for j,tq in enumerate(tqevs): # do sum\n",
    "                tqev = tq[0][0]\n",
    "                if j == 0: # initial set\n",
    "                    tqevsum = np.copy( tqev )\n",
    "                else:\n",
    "                    tqevsum[:,:,0] = tqevsum[:,:,0] + tqev[:,:,0]\n",
    "                    tqevsum[:,:,1] = np.maximum( tqevsum[:,:,1], tqev[:,:,1] )\n",
    "        \n",
    "            ev_data.append( np.expand_dims( tqevsum, axis=0 ) )\n",
    "            labels.append( nevget-1 )\n",
    "            mring_labels.append( [] )\n",
    "            directions.append( [] )\n",
    "            energies.append( [] )  \n",
    "            pids.append( [] )  \n",
    "            positions.append( [] )  \n",
    "            for tq in tqevs:\n",
    "                mring_labels[-1].append( tq[1] ) \n",
    "                directions[-1].append(   tq[2] )\n",
    "                energies[-1].append(     tq[3] )  \n",
    "                pids[-1].append(         tq[4] )  \n",
    "                positions[-1].append(    tq[5] )\n",
    "            for ifill in range(int(nsum)-len(tqevs)):\n",
    "                mring_labels[-1].append( tqevs[0][1] ) \n",
    "                directions[-1].append(   tqevs[0][2] )\n",
    "                energies[-1].append(     tqevs[0][3] )  \n",
    "                pids[-1].append(         tqevs[0][4] )  \n",
    "                positions[-1].append(    tqevs[0][5] )\n",
    "                \n",
    "            nevavail = 0 # reset counters\n",
    "            nevget = 0\n",
    "            tqevs=[]\n",
    "        \n",
    "    print(\"Create_SumN_Rings finished loop over events\")  \n",
    "    all_events=np.concatenate(ev_data)\n",
    "    all_labels=np.asarray(labels)\n",
    "    all_pids=np.asarray(pids)\n",
    "    all_positions=np.asarray(positions)\n",
    "    all_directions=np.asarray(directions)\n",
    "    all_energies=np.asarray(energies)\n",
    "    all_mring_labels=np.asarray(mring_labels)\n",
    "    print(\"Begin data compress\")\n",
    "    np.savez_compressed(output_file,\n",
    "                    event_data=all_events,\n",
    "                    labels=all_labels,\n",
    "                    pids=all_pids,\n",
    "                    positions=all_positions,\n",
    "                    directions=all_directions,\n",
    "                    energies=all_energies,\n",
    "                    mring_labels=all_mring_labels\n",
    "                       )\n",
    "    print(\"Done Create_Sum_Rings\")\n"
   ]
  },
  {
   "cell_type": "code",
   "execution_count": 5,
   "metadata": {},
   "outputs": [
    {
     "data": {
      "text/html": [
       "\n",
       "        <progress \n",
       "            value='50000'\n",
       "            max='50000',\n",
       "            style='width: 30%'\n",
       "        >\n",
       "            50000\n",
       "        </progress> 100% Progress\n",
       "    "
      ],
      "text/plain": [
       "<IPython.core.display.HTML object>"
      ]
     },
     "metadata": {},
     "output_type": "display_data"
    },
    {
     "name": "stdout",
     "output_type": "stream",
     "text": [
      "Create_SumN_Rings finished loop over events\n",
      "Begin data compress\n",
      "Done Create_Sum_Rings\n",
      "Done.\n"
     ]
    }
   ],
   "source": [
    "Create_SumN_Rings(  DATA_DIRS=['/data/hkml_data/IWCDgrid/varyE/e-'], flavour='100k.h5', \n",
    "                      output_file='/data/jamieson/data/e-_randomto6ring.npz', nsum=6.0 )\n",
    "print(\"Done.\")"
   ]
  },
  {
   "cell_type": "code",
   "execution_count": 3,
   "metadata": {},
   "outputs": [
    {
     "data": {
      "text/html": [
       "\n",
       "        <progress \n",
       "            value='100000'\n",
       "            max='100000',\n",
       "            style='width: 30%'\n",
       "        >\n",
       "            100000\n",
       "        </progress> 100% Progress\n",
       "    "
      ],
      "text/plain": [
       "<IPython.core.display.HTML object>"
      ]
     },
     "metadata": {},
     "output_type": "display_data"
    },
    {
     "name": "stdout",
     "output_type": "stream",
     "text": [
      "Create_SumN_Rings finished loop over events\n",
      "Begin data compress\n"
     ]
    },
    {
     "name": "stderr",
     "output_type": "stream",
     "text": [
      "\n",
      "KeyboardInterrupt\n",
      "\n"
     ]
    }
   ],
   "source": [
    "Create_SumN_Rings(  DATA_DIRS=['/data/hkml_data/IWCDgrid/varyE/e-'], flavour='100k.h5', \n",
    "                      output_file='/data/jamieson/data/e-_tworing.npz', nsum=2 )\n",
    "print(\"Done.\")"
   ]
  },
  {
   "cell_type": "code",
   "execution_count": null,
   "metadata": {},
   "outputs": [],
   "source": [
    "Create_SumN_Rings(  DATA_DIRS=['/data/hkml_data/IWCDgrid/varyE/e-'], flavour='100k.h5', \n",
    "                      output_file='/data/jamieson/data/e-_threering.npz', nsum=3 )\n",
    "print(\"Done.\")"
   ]
  },
  {
   "cell_type": "code",
   "execution_count": null,
   "metadata": {},
   "outputs": [],
   "source": []
  }
 ],
 "metadata": {
  "kernelspec": {
   "display_name": "Python 2",
   "language": "python",
   "name": "python2"
  },
  "language_info": {
   "codemirror_mode": {
    "name": "ipython",
    "version": 2
   },
   "file_extension": ".py",
   "mimetype": "text/x-python",
   "name": "python",
   "nbconvert_exporter": "python",
   "pygments_lexer": "ipython2",
   "version": "2.7.12"
  }
 },
 "nbformat": 4,
 "nbformat_minor": 2
}
