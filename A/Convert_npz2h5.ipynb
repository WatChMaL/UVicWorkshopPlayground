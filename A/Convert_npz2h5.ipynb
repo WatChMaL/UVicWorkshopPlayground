{
 "cells": [
  {
   "cell_type": "markdown",
   "metadata": {},
   "source": [
    "# Convert npz to h5 data\n",
    "\n"
   ]
  },
  {
   "cell_type": "markdown",
   "metadata": {},
   "source": [
    "# Test that conversion worked\n",
    "\n",
    "Here we make a few plots to check that the conversion worked okay"
   ]
  },
  {
   "cell_type": "code",
   "execution_count": null,
   "metadata": {},
   "outputs": [],
   "source": [
    "\n",
    "from iotools import make_h5\n",
    "\n",
    "#infiles = ['/data/jamieson/data/e-_randomto6ring.npz']\n",
    "#outfile='/data/jamieson/data/e-_randomto6ring.h5'\n",
    "\n",
    "infiles = ['/data/jamieson/data/e-_tworing.npz']\n",
    "outfile='/data/jamieson/data/e-_tworing.h5'\n",
    "\n",
    "make_h5.make_h5( infiles, outfile )\n",
    "\n",
    "#infiles = ['/data/jamieson/data/e-_randomto6ring.npz']\n",
    "#outfile='/data/jamieson/data/e-_randomto6ring.h5'\n",
    "#make_h5.make_h5( infiles, outfile )\n",
    "\n",
    "infiles = ['/data/jamieson/data/e-_threering.npz']\n",
    "outfile='/data/jamieson/data/e-_threering.h5'\n",
    "\n",
    "make_h5.make_h5( infiles, outfile )"
   ]
  },
  {
   "cell_type": "code",
   "execution_count": 1,
   "metadata": {},
   "outputs": [
    {
     "name": "stdout",
     "output_type": "stream",
     "text": [
      "Will process 1 files...\n"
     ]
    },
    {
     "data": {
      "text/html": [
       "\n",
       "        <progress \n",
       "            value='1'\n",
       "            max='1',\n",
       "            style='width: 30%'\n",
       "        >\n",
       "            1\n",
       "        </progress> 100%  Processing file\n",
       "    "
      ],
      "text/plain": [
       "<IPython.core.display.HTML object>"
      ]
     },
     "metadata": {},
     "output_type": "display_data"
    },
    {
     "name": "stdout",
     "output_type": "stream",
     "text": [
      "labels\n"
     ]
    },
    {
     "ename": "MemoryError",
     "evalue": "",
     "output_type": "error",
     "traceback": [
      "\u001b[0;31m\u001b[0m",
      "\u001b[0;31mMemoryError\u001b[0mTraceback (most recent call last)",
      "\u001b[0;32m<ipython-input-1-04afb8538a78>\u001b[0m in \u001b[0;36m<module>\u001b[0;34m()\u001b[0m\n\u001b[1;32m      3\u001b[0m \u001b[0minfiles\u001b[0m \u001b[0;34m=\u001b[0m \u001b[0;34m[\u001b[0m\u001b[0;34m'/data/jamieson/data/e-_randomto6ring.npz'\u001b[0m\u001b[0;34m]\u001b[0m\u001b[0;34m\u001b[0m\u001b[0m\n\u001b[1;32m      4\u001b[0m \u001b[0moutfile\u001b[0m\u001b[0;34m=\u001b[0m\u001b[0;34m'/data/jamieson/data/e-_randomto6ring.h5'\u001b[0m\u001b[0;34m\u001b[0m\u001b[0m\n\u001b[0;32m----> 5\u001b[0;31m \u001b[0mmake_h5\u001b[0m\u001b[0;34m.\u001b[0m\u001b[0mmake_h5\u001b[0m\u001b[0;34m(\u001b[0m \u001b[0minfiles\u001b[0m\u001b[0;34m,\u001b[0m \u001b[0moutfile\u001b[0m \u001b[0;34m)\u001b[0m\u001b[0;34m\u001b[0m\u001b[0m\n\u001b[0m",
      "\u001b[0;32m/data/jamieson/UVicWorkshopPlayground/A/iotools/make_h5.pyc\u001b[0m in \u001b[0;36mmake_h5\u001b[0;34m(file_list, output_file)\u001b[0m\n\u001b[1;32m     40\u001b[0m                     \u001b[0mdata_shape\u001b[0m  \u001b[0;34m=\u001b[0m \u001b[0;34m[\u001b[0m\u001b[0;36m0\u001b[0m\u001b[0;34m]\u001b[0m \u001b[0;34m+\u001b[0m \u001b[0mlist\u001b[0m\u001b[0;34m(\u001b[0m\u001b[0mdata_shape\u001b[0m\u001b[0;34m[\u001b[0m\u001b[0;36m1\u001b[0m\u001b[0;34m:\u001b[0m\u001b[0;34m]\u001b[0m\u001b[0;34m)\u001b[0m\u001b[0;34m\u001b[0m\u001b[0m\n\u001b[1;32m     41\u001b[0m                     \u001b[0mout_ndarray\u001b[0m\u001b[0;34m[\u001b[0m\u001b[0mkey\u001b[0m\u001b[0;34m]\u001b[0m \u001b[0;34m=\u001b[0m \u001b[0moutput\u001b[0m\u001b[0;34m.\u001b[0m\u001b[0mcreate_earray\u001b[0m\u001b[0;34m(\u001b[0m\u001b[0moutput\u001b[0m\u001b[0;34m.\u001b[0m\u001b[0mroot\u001b[0m\u001b[0;34m,\u001b[0m\u001b[0mkey\u001b[0m\u001b[0;34m,\u001b[0m\u001b[0mtables\u001b[0m\u001b[0;34m.\u001b[0m\u001b[0mFloat32Atom\u001b[0m\u001b[0;34m(\u001b[0m\u001b[0;34m)\u001b[0m\u001b[0;34m,\u001b[0m\u001b[0mchunkshape\u001b[0m\u001b[0;34m=\u001b[0m\u001b[0mchunk_shape\u001b[0m\u001b[0;34m,\u001b[0m\u001b[0mshape\u001b[0m\u001b[0;34m=\u001b[0m\u001b[0mdata_shape\u001b[0m\u001b[0;34m)\u001b[0m\u001b[0;34m\u001b[0m\u001b[0m\n\u001b[0;32m---> 42\u001b[0;31m                 \u001b[0mout_ndarray\u001b[0m\u001b[0;34m[\u001b[0m\u001b[0mkey\u001b[0m\u001b[0;34m]\u001b[0m\u001b[0;34m.\u001b[0m\u001b[0mappend\u001b[0m\u001b[0;34m(\u001b[0m\u001b[0mf\u001b[0m\u001b[0;34m[\u001b[0m\u001b[0mkey\u001b[0m\u001b[0;34m]\u001b[0m\u001b[0;34m.\u001b[0m\u001b[0mastype\u001b[0m\u001b[0;34m(\u001b[0m\u001b[0mnp\u001b[0m\u001b[0;34m.\u001b[0m\u001b[0mfloat32\u001b[0m\u001b[0;34m)\u001b[0m\u001b[0;34m)\u001b[0m\u001b[0;34m\u001b[0m\u001b[0m\n\u001b[0m\u001b[1;32m     43\u001b[0m \u001b[0;34m\u001b[0m\u001b[0m\n\u001b[1;32m     44\u001b[0m         \u001b[0msys\u001b[0m\u001b[0;34m.\u001b[0m\u001b[0mstdout\u001b[0m\u001b[0;34m.\u001b[0m\u001b[0mwrite\u001b[0m\u001b[0;34m(\u001b[0m\u001b[0;34m'Progress: %1.3f\\r'\u001b[0m \u001b[0;34m%\u001b[0m \u001b[0;34m(\u001b[0m\u001b[0mfloat\u001b[0m\u001b[0;34m(\u001b[0m\u001b[0mfile_index\u001b[0m\u001b[0;34m+\u001b[0m\u001b[0;36m1\u001b[0m\u001b[0;34m)\u001b[0m\u001b[0;34m/\u001b[0m\u001b[0mlen\u001b[0m\u001b[0;34m(\u001b[0m\u001b[0mfile_list\u001b[0m\u001b[0;34m)\u001b[0m\u001b[0;34m)\u001b[0m\u001b[0;34m)\u001b[0m\u001b[0;34m\u001b[0m\u001b[0m\n",
      "\u001b[0;31mMemoryError\u001b[0m: "
     ]
    }
   ],
   "source": [
    "\n",
    "from iotools import make_h5\n",
    "infiles = ['/data/jamieson/data/e-_randomto6ring.npz']\n",
    "outfile='/data/jamieson/data/e-_randomto6ring.h5'\n",
    "make_h5.make_h5( infiles, outfile )"
   ]
  },
  {
   "cell_type": "code",
   "execution_count": 2,
   "metadata": {},
   "outputs": [
    {
     "ename": "AssertionError",
     "evalue": "",
     "output_type": "error",
     "traceback": [
      "\u001b[0;31m\u001b[0m",
      "\u001b[0;31mAssertionError\u001b[0mTraceback (most recent call last)",
      "\u001b[0;32m<ipython-input-2-5798443f8c53>\u001b[0m in \u001b[0;36m<module>\u001b[0;34m()\u001b[0m\n\u001b[1;32m      7\u001b[0m                           \u001b[0mshuffle\u001b[0m\u001b[0;34m=\u001b[0m\u001b[0mTrue\u001b[0m\u001b[0;34m,\u001b[0m \u001b[0mnum_workers\u001b[0m\u001b[0;34m=\u001b[0m\u001b[0;36m4\u001b[0m\u001b[0;34m,\u001b[0m \u001b[0mdata_dirs\u001b[0m\u001b[0;34m=\u001b[0m\u001b[0;34m[\u001b[0m\u001b[0;34m'/data/jamieson/data'\u001b[0m\u001b[0;34m]\u001b[0m\u001b[0;34m,\u001b[0m\u001b[0;34m\u001b[0m\u001b[0m\n\u001b[1;32m      8\u001b[0m                           \u001b[0mflavour\u001b[0m\u001b[0;34m=\u001b[0m\u001b[0;34m'tworing.h5'\u001b[0m\u001b[0;34m,\u001b[0m \u001b[0mstart_fraction\u001b[0m\u001b[0;34m=\u001b[0m\u001b[0;36m0.0\u001b[0m\u001b[0;34m,\u001b[0m \u001b[0muse_fraction\u001b[0m\u001b[0;34m=\u001b[0m\u001b[0;36m0.01\u001b[0m\u001b[0;34m,\u001b[0m\u001b[0;34m\u001b[0m\u001b[0m\n\u001b[0;32m----> 9\u001b[0;31m                           read_keys=[ 'event_data', 'labels','directions', 'energies', 'pids', 'positions','mring_labels'])    \n\u001b[0m\u001b[1;32m     10\u001b[0m \u001b[0;34m\u001b[0m\u001b[0m\n\u001b[1;32m     11\u001b[0m \u001b[0;32mfor\u001b[0m \u001b[0mi\u001b[0m\u001b[0;34m,\u001b[0m\u001b[0mdata\u001b[0m \u001b[0;32min\u001b[0m \u001b[0menumerate\u001b[0m\u001b[0;34m(\u001b[0m\u001b[0mloader\u001b[0m\u001b[0;34m)\u001b[0m\u001b[0;34m:\u001b[0m\u001b[0;34m\u001b[0m\u001b[0m\n",
      "\u001b[0;32m/data/jamieson/UVicWorkshopPlayground/A/iotools/loader_factory.pyc\u001b[0m in \u001b[0;36mloader_factory\u001b[0;34m(name, batch_size, shuffle, num_workers, collate_fn, **args)\u001b[0m\n\u001b[1;32m     10\u001b[0m                    \u001b[0mcollate_fn\u001b[0m\u001b[0;34m=\u001b[0m\u001b[0miotools\u001b[0m\u001b[0;34m.\u001b[0m\u001b[0mhkdataset\u001b[0m\u001b[0;34m.\u001b[0m\u001b[0mCollate\u001b[0m\u001b[0;34m,\u001b[0m\u001b[0;34m\u001b[0m\u001b[0m\n\u001b[1;32m     11\u001b[0m                    **args):\n\u001b[0;32m---> 12\u001b[0;31m     \u001b[0mds\u001b[0m \u001b[0;34m=\u001b[0m \u001b[0mgetattr\u001b[0m\u001b[0;34m(\u001b[0m\u001b[0miotools\u001b[0m\u001b[0;34m.\u001b[0m\u001b[0mhkdataset\u001b[0m\u001b[0;34m,\u001b[0m\u001b[0mname\u001b[0m\u001b[0;34m)\u001b[0m\u001b[0;34m(\u001b[0m\u001b[0;34m**\u001b[0m\u001b[0margs\u001b[0m\u001b[0;34m)\u001b[0m\u001b[0;34m\u001b[0m\u001b[0m\n\u001b[0m\u001b[1;32m     13\u001b[0m     loader = DataLoader(ds,\n\u001b[1;32m     14\u001b[0m                         \u001b[0mbatch_size\u001b[0m  \u001b[0;34m=\u001b[0m \u001b[0mbatch_size\u001b[0m\u001b[0;34m,\u001b[0m\u001b[0;34m\u001b[0m\u001b[0m\n",
      "\u001b[0;32m/data/jamieson/UVicWorkshopPlayground/A/iotools/hkdataset.pyc\u001b[0m in \u001b[0;36m__init__\u001b[0;34m(self, data_dirs, transform, flavour, limit_num_files, start_fraction, use_fraction, read_keys)\u001b[0m\n\u001b[1;32m    128\u001b[0m         \u001b[0;32mimport\u001b[0m \u001b[0mh5py\u001b[0m\u001b[0;34m\u001b[0m\u001b[0m\n\u001b[1;32m    129\u001b[0m         \u001b[0mf\u001b[0m \u001b[0;34m=\u001b[0m \u001b[0mh5py\u001b[0m\u001b[0;34m.\u001b[0m\u001b[0mFile\u001b[0m\u001b[0;34m(\u001b[0m\u001b[0mself\u001b[0m\u001b[0;34m.\u001b[0m\u001b[0m_files\u001b[0m\u001b[0;34m[\u001b[0m\u001b[0;36m0\u001b[0m\u001b[0;34m]\u001b[0m\u001b[0;34m,\u001b[0m\u001b[0mmode\u001b[0m\u001b[0;34m=\u001b[0m\u001b[0;34m'r'\u001b[0m\u001b[0;34m)\u001b[0m\u001b[0;34m\u001b[0m\u001b[0m\n\u001b[0;32m--> 130\u001b[0;31m         \u001b[0;32massert\u001b[0m \u001b[0;34m'event_data'\u001b[0m \u001b[0;32min\u001b[0m \u001b[0mf\u001b[0m\u001b[0;34m.\u001b[0m\u001b[0mkeys\u001b[0m\u001b[0;34m(\u001b[0m\u001b[0;34m)\u001b[0m\u001b[0;34m\u001b[0m\u001b[0m\n\u001b[0m\u001b[1;32m    131\u001b[0m         \u001b[0;31m#assert 'labels' in f.keys()\u001b[0m\u001b[0;34m\u001b[0m\u001b[0;34m\u001b[0m\u001b[0m\n\u001b[1;32m    132\u001b[0m         \u001b[0mself\u001b[0m\u001b[0;34m.\u001b[0m\u001b[0m_keys\u001b[0m \u001b[0;34m=\u001b[0m \u001b[0;34m[\u001b[0m\u001b[0;34m'event_data'\u001b[0m\u001b[0;34m,\u001b[0m\u001b[0;34m'labels'\u001b[0m\u001b[0;34m]\u001b[0m\u001b[0;34m\u001b[0m\u001b[0m\n",
      "\u001b[0;31mAssertionError\u001b[0m: "
     ]
    }
   ],
   "source": [
    "import matplotlib.pyplot as plt\n",
    "%matplotlib inline\n",
    "\n",
    "from iotools import loader_factory\n",
    "\n",
    "loader=loader_factory('H5Dataset', batch_size=1, \n",
    "                          shuffle=True, num_workers=4, data_dirs=['/data/jamieson/data'], \n",
    "                          flavour='tworing.h5', start_fraction=0.0, use_fraction=0.01,\n",
    "                          read_keys=[ 'event_data', 'labels','directions', 'energies', 'pids', 'positions','mring_labels'])    \n",
    "    \n",
    "for i,data in enumerate(loader):\n",
    "        evt = data[0]\n",
    "        print(evt.shape)\n",
    "        #print(\"evt[0]=\",evt[0])\n",
    "        #print(\"evt[1]=\",evt[1])\n",
    "        plt.imshow(evt[0,:,:,0])\n",
    "        break"
   ]
  },
  {
   "cell_type": "code",
   "execution_count": 3,
   "metadata": {},
   "outputs": [
    {
     "name": "stdout",
     "output_type": "stream",
     "text": [
      "(1, 88, 168, 2)\n"
     ]
    },
    {
     "data": {
      "image/png": "[encoded data removed]",
      "text/plain": [
       "<Figure size 432x288 with 1 Axes>"
      ]
     },
     "metadata": {
      "needs_background": "light"
     },
     "output_type": "display_data"
    }
   ],
   "source": [
    "loader=loader_factory('H5Dataset', batch_size=1, \n",
    "                          shuffle=True, num_workers=4, data_dirs=['/data/jamieson/data'], \n",
    "                          flavour='threering.h5', start_fraction=0.0, use_fraction=0.01,\n",
    "                          read_keys=[ 'event_data', 'labels','directions', 'energies', 'pids', 'positions','mring_labels'])    \n",
    "    \n",
    "for i,data in enumerate(loader):\n",
    "        evt = data[0]\n",
    "        print(evt.shape)\n",
    "        #print(\"evt[0]=\",evt[0])\n",
    "        #print(\"evt[1]=\",evt[1])\n",
    "        plt.imshow(evt[0,:,:,0])\n",
    "        break"
   ]
  },
  {
   "cell_type": "code",
   "execution_count": null,
   "metadata": {},
   "outputs": [],
   "source": [
    "import matplotlib.pyplot as plt\n",
    "%matplotlib inline\n",
    "\n",
    "from iotools import loader_factory\n",
    "loader=loader_factory('H5Dataset', batch_size=1, \n",
    "                          shuffle=True, num_workers=4, data_dirs=['/data/jamieson/data'], \n",
    "                          flavour='randomto6ring.h5', start_fraction=0.0, use_fraction=0.01,\n",
    "                          read_keys=[ 'event_data', 'labels','directions', 'energies', 'pids', 'positions','mring_labels'])    \n",
    "    \n",
    "for i,data in enumerate(loader):\n",
    "        evt = data[0]\n",
    "        print(evt.shape)\n",
    "        #print(\"evt[0]=\",evt[0])\n",
    "        #print(\"evt[1]=\",evt[1])\n",
    "        plt.imshow(evt[0,:,:,0])\n",
    "        break"
   ]
  },
  {
   "cell_type": "code",
   "execution_count": null,
   "metadata": {},
   "outputs": [],
   "source": []
  },
  {
   "cell_type": "code",
   "execution_count": null,
   "metadata": {},
   "outputs": [],
   "source": []
  }
 ],
 "metadata": {
  "kernelspec": {
   "display_name": "Python 2",
   "language": "python",
   "name": "python2"
  },
  "language_info": {
   "codemirror_mode": {
    "name": "ipython",
    "version": 2
   },
   "file_extension": ".py",
   "mimetype": "text/x-python",
   "name": "python",
   "nbconvert_exporter": "python",
   "pygments_lexer": "ipython2",
   "version": "2.7.12"
  }
 },
 "nbformat": 4,
 "nbformat_minor": 2
}
