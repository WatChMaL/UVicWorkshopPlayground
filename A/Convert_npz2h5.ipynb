{
 "cells": [
  {
   "cell_type": "markdown",
   "metadata": {},
   "source": [
    "# Convert npz to h5 data\n",
    "\n"
   ]
  },
  {
   "cell_type": "markdown",
   "metadata": {},
   "source": [
    "# Test that conversion worked\n",
    "\n",
    "Here we make a few plots to check that the conversion worked okay"
   ]
  },
  {
   "cell_type": "code",
   "execution_count": null,
   "metadata": {},
   "outputs": [],
   "source": [
    "\n",
    "from iotools import make_h5\n",
    "\n",
    "#infiles = ['/data/jamieson/data/e-_randomto6ring.npz']\n",
    "#outfile='/data/jamieson/data/e-_randomto6ring.h5'\n",
    "\n",
    "infiles = ['/data/jamieson/data/e-_tworing.npz']\n",
    "outfile='/data/jamieson/data/e-_tworing.h5'\n",
    "\n",
    "make_h5.make_h5( infiles, outfile )\n",
    "\n",
    "#infiles = ['/data/jamieson/data/e-_randomto6ring.npz']\n",
    "#outfile='/data/jamieson/data/e-_randomto6ring.h5'\n",
    "#make_h5.make_h5( infiles, outfile )\n",
    "\n",
    "infiles = ['/data/jamieson/data/e-_threering.npz']\n",
    "outfile='/data/jamieson/data/e-_threering.h5'\n",
    "\n",
    "make_h5.make_h5( infiles, outfile )"
   ]
  },
  {
   "cell_type": "code",
   "execution_count": 1,
   "metadata": {},
   "outputs": [
    {
     "name": "stdout",
     "output_type": "stream",
     "text": [
      "Will process 1 files...\n"
     ]
    },
    {
     "data": {
      "text/html": [
       "\n",
       "        <progress \n",
       "            value='1'\n",
       "            max='1',\n",
       "            style='width: 30%'\n",
       "        >\n",
       "            1\n",
       "        </progress> 100%  Processing file\n",
       "    "
      ],
      "text/plain": [
       "<IPython.core.display.HTML object>"
      ]
     },
     "metadata": {},
     "output_type": "display_data"
    },
    {
     "name": "stdout",
     "output_type": "stream",
     "text": [
      "labels\n",
      "Progress: 1.000\n",
      "\n",
      "Finished!\n",
      "\n",
      "Stored keys: [u'directions', u'energies', u'event_data', u'labels', u'mring_labels', u'pids', u'positions']\n",
      "    directions ... shape (1245, 6, 1, 88, 168, 2)\n",
      "    energies ... shape (1245, 6, 1)\n",
      "    event_data ... shape (1245, 88, 168, 2)\n",
      "    labels ... shape (1245,)\n",
      "    mring_labels ... shape (1245, 6, 1)\n",
      "    pids ... shape (1245, 6, 1, 1, 3)\n",
      "    positions ... shape (1245, 6, 1, 1)\n"
     ]
    }
   ],
   "source": [
    "\n",
    "from iotools import make_h5\n",
    "infiles = ['/data/jamieson/data/e-_randomto6ring.npz']\n",
    "outfile='/data/jamieson/data/e-_randomto6ring.h5'\n",
    "make_h5.make_h5( infiles, outfile )"
   ]
  },
  {
   "cell_type": "code",
   "execution_count": null,
   "metadata": {},
   "outputs": [],
   "source": [
    "import matplotlib.pyplot as plt\n",
    "%matplotlib inline\n",
    "\n",
    "from iotools import loader_factory\n",
    "\n",
    "loader=loader_factory('H5Dataset', batch_size=1, \n",
    "                          shuffle=True, num_workers=4, data_dirs=['/data/jamieson/data'], \n",
    "                          flavour='tworing.h5', start_fraction=0.0, use_fraction=0.01,\n",
    "                          read_keys=[ 'event_data', 'labels','directions', 'energies', 'pids', 'positions','mring_labels'])    \n",
    "    \n",
    "for i,data in enumerate(loader):\n",
    "        evt = data[0]\n",
    "        print(evt.shape)\n",
    "        #print(\"evt[0]=\",evt[0])\n",
    "        #print(\"evt[1]=\",evt[1])\n",
    "        plt.imshow(evt[0,:,:,0])\n",
    "        break"
   ]
  },
  {
   "cell_type": "code",
   "execution_count": null,
   "metadata": {},
   "outputs": [],
   "source": [
    "loader=loader_factory('H5Dataset', batch_size=1, \n",
    "                          shuffle=True, num_workers=4, data_dirs=['/data/jamieson/data'], \n",
    "                          flavour='threering.h5', start_fraction=0.0, use_fraction=0.01,\n",
    "                          read_keys=[ 'event_data', 'labels','directions', 'energies', 'pids', 'positions','mring_labels'])    \n",
    "    \n",
    "for i,data in enumerate(loader):\n",
    "        evt = data[0]\n",
    "        print(evt.shape)\n",
    "        #print(\"evt[0]=\",evt[0])\n",
    "        #print(\"evt[1]=\",evt[1])\n",
    "        plt.imshow(evt[0,:,:,0])\n",
    "        break"
   ]
  },
  {
   "cell_type": "code",
   "execution_count": 7,
   "metadata": {},
   "outputs": [
    {
     "name": "stdout",
     "output_type": "stream",
     "text": [
      "(1, 88, 168, 2)\n"
     ]
    },
    {
     "data": {
      "image/png": "[encoded data removed]",
      "text/plain": [
       "<Figure size 432x288 with 1 Axes>"
      ]
     },
     "metadata": {
      "needs_background": "light"
     },
     "output_type": "display_data"
    }
   ],
   "source": [
    "import matplotlib.pyplot as plt\n",
    "%matplotlib inline\n",
    "\n",
    "from iotools import loader_factory\n",
    "loader=loader_factory('H5Dataset', batch_size=1, \n",
    "                          shuffle=True, num_workers=4, data_dirs=['/data/jamieson/data'], \n",
    "                          flavour='randomto6ring.h5', start_fraction=0.0, use_fraction=0.01,\n",
    "                          read_keys=[ 'event_data', 'labels','directions', 'energies', 'pids', 'positions','mring_labels'])    \n",
    "    \n",
    "for i,data in enumerate(loader):\n",
    "        evt = data[0]\n",
    "        print(evt.shape)\n",
    "        #print(\"evt[0]=\",evt[0])\n",
    "        #print(\"evt[1]=\",evt[1])\n",
    "        plt.imshow(evt[0,:,:,0])\n",
    "        break"
   ]
  },
  {
   "cell_type": "code",
   "execution_count": null,
   "metadata": {},
   "outputs": [],
   "source": []
  },
  {
   "cell_type": "code",
   "execution_count": null,
   "metadata": {},
   "outputs": [],
   "source": []
  }
 ],
 "metadata": {
  "kernelspec": {
   "display_name": "Python 2",
   "language": "python",
   "name": "python2"
  },
  "language_info": {
   "codemirror_mode": {
    "name": "ipython",
    "version": 2
   },
   "file_extension": ".py",
   "mimetype": "text/x-python",
   "name": "python",
   "nbconvert_exporter": "python",
   "pygments_lexer": "ipython2",
   "version": "2.7.12"
  }
 },
 "nbformat": 4,
 "nbformat_minor": 2
}
