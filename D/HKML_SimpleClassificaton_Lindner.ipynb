{
 "cells": [
  {
   "cell_type": "markdown",
   "metadata": {},
   "source": [
    "# Group D Simple Classification\n",
    "\n",
    "T. Lindner first notebook...\n",
    "\n",
    "Fast streaming of data is extremely important for training ML algorithms. As such, ML libraries including `pytorch` provide useful APIs to load data during training. In this notebook, we go over an example of how to implement `pytorch` APIs for streaming the workshop data. \n",
    "\n",
    "We assume you know how to open the workshop `.npz` data files. If you do not know what that is, or have not yet tried [HKML Data Access & Visualization](https://github.com/WatChMaL/ExampleNotebooks/blob/master/HKML%20Data%20Access%20%26%20Visualization.ipynb) notebook, you should start from there.\n",
    "\n"
   ]
  },
  {
   "cell_type": "markdown",
   "metadata": {},
   "source": [
    "There are 2 base `pytorch` modules to be implemented:\n",
    "* `Dataset` ... a blob data instance, defines how data should be read from file, etc.\n",
    "* `DataLoader` ... for streaming data segments from `Dataset`"
   ]
  },
  {
   "cell_type": "code",
   "execution_count": 1,
   "metadata": {},
   "outputs": [],
   "source": [
    "from __future__ import print_function\n",
    "import numpy as np\n",
    "import os, time\n",
    "import matplotlib.pyplot as plt\n",
    "%matplotlib inline\n",
    "from torch.utils.data import Dataset, DataLoader\n",
    "\n",
    "# Data directories: let's use e- and mu-\n",
    "DATA_DIRS = ['/data/hkml_data/IWCDgrid/varyE/e-','/data/hkml_data/IWCDgrid/varyE/mu-','/data/hkml_data/IWCDgrid/varyE/gamma']\n",
    "\n"
   ]
  },
  {
   "cell_type": "markdown",
   "metadata": {},
   "source": [
    "## Dataset\n",
    "`Dataset` module needs implementation of two attributes: `__len__` (length of our dataset) and `__getitem__` (called to fetch an item in the ordered dataset). Below, we define `NPZDataset` which reads data from files whenever requested.\n",
    "\n",
    "Use the HDF5 format"
   ]
  },
  {
   "cell_type": "code",
   "execution_count": 12,
   "metadata": {},
   "outputs": [
    {
     "name": "stdout",
     "output_type": "stream",
     "text": [
      "directions ... Shape (100000, 1, 3)\n",
      "energies ... Shape (100000, 1)\n",
      "event_data ... Shape (100000, 88, 168, 2)\n",
      "labels ... Shape (100000,)\n",
      "pids ... Shape (100000, 1)\n",
      "positions ... Shape (100000, 1, 3)\n"
     ]
    }
   ],
   "source": [
    "import h5py\n",
    "# Open a file\n",
    "f = h5py.File('/data/hkml_data/IWCDgrid/varyE/e-/IWCDgrid_varyE_e-_R0cm_20-2000MeV_100k.h5', mode='r')\n",
    "# List keys\n",
    "for key in f.keys():\n",
    "    print('%s ... Shape %s' % (key, str(f[key].shape)))"
   ]
  },
  {
   "cell_type": "markdown",
   "metadata": {},
   "source": [
    "## DataLoader\n",
    "Given a `Dataset` instance, `DataLoader` provides handy features for streaming data including randomization of samples, multi-threaded data read/process (e.g. `transform` function in `Dataset`), etc.. \n",
    "\n",
    "The `DataLoader` is for ML training where we typically access data by a chunk, called _batch_ (or sometimes _mini batch_). The number of samples (e.g. events) in each batch is called _batch size_ (or _mini batch size_). When preparing a batch, `DataLoader` combines (or collates) N events where N is the batch size. You need to provide a function to perform this collation."
   ]
  },
  {
   "cell_type": "code",
   "execution_count": 13,
   "metadata": {},
   "outputs": [],
   "source": [
    "class H5Dataset(Dataset):\n",
    "\n",
    "    def __init__(self, data_dirs, transform=None, flavour=None, limit_num_files=0, start_fraction=0., use_fraction=1.0):\n",
    "        \"\"\"                               \n",
    "        \n",
    "        Args: data_dirs ... a list of data directories to find files (up to 10 files read from each dir)                                                \n",
    "              transform ... a function applied to pre-process data                                                                                      \n",
    "              flavour ..... a string that is required to be present in the filename                                                                     \n",
    "              limit_num_files ... an integer limiting number of files to be taken per data directory                                                    \n",
    "              start_fraction ... a floating point fraction (0.0=>1.0) to specify which entry to start reading (per file)                                \n",
    "              use_fraction ..... a floating point fraction (0.0=>1.0) to specify how much fraction of a file to be read out (per file)                  \n",
    "        \"\"\"\n",
    "        self._transform = transform\n",
    "        self._files = []\n",
    "\n",
    "        # Check input fractions makes sense                                                                                                             \n",
    "        assert start_fraction >= 0. and start_fraction < 1.\n",
    "        assert use_fraction > 0. and use_fraction <= 1.\n",
    "        assert (start_fraction + use_fraction) <= 1.\n",
    "\n",
    "        # Load files (up to 10) from each directory in data_dirs list                                                                                   \n",
    "        for d in data_dirs:\n",
    "            file_list = [ os.path.join(d,f) for f in os.listdir(d) if flavour is None or flavour in f ]\n",
    "            if limit_num_files: file_list = file_list[0:limit_num_files]\n",
    "            self._files += file_list\n",
    "\n",
    "        self._file_handles = [None] * len(self._files)\n",
    "        self._event_to_file_index  = []\n",
    "        self._event_to_entry_index = []\n",
    "        import h5py\n",
    "        for file_index, file_name in enumerate(self._files):\n",
    "            f = h5py.File(file_name,mode='r')\n",
    "            data_size = f['event_data'].shape[0]\n",
    "            start_entry = int(start_fraction * data_size)\n",
    "            num_entries = int(use_fraction * data_size)\n",
    "            self._event_to_file_index += [file_index] * num_entries\n",
    "            self._event_to_entry_index += range(start_entry, start_entry+num_entries)\n",
    "            f.close()\n",
    "\n",
    "    def __len__(self):\n",
    "        return len(self._event_to_file_index)\n",
    "\n",
    "    def __getitem__(self,idx):\n",
    "        file_index = self._event_to_file_index[idx]\n",
    "        entry_index = self._event_to_entry_index[idx]\n",
    "        if self._file_handles[file_index] is None:\n",
    "            import h5py\n",
    "            self._file_handles[file_index] = h5py.File(self._files[file_index],mode='r')\n",
    "        fh = self._file_handles[file_index]\n",
    "        return fh['event_data'][entry_index],fh['labels'][entry_index],idx"
   ]
  },
  {
   "cell_type": "markdown",
   "metadata": {},
   "source": [
    "Now try plotting the data loaded from HDF5 file"
   ]
  },
  {
   "cell_type": "code",
   "execution_count": 25,
   "metadata": {},
   "outputs": [
    {
     "name": "stdout",
     "output_type": "stream",
     "text": [
      "300000 total events are loaded!\n",
      "Entry 299999 ... label: 0.0 ... data shape: (88, 168, 2)\n"
     ]
    },
    {
     "data": {
      "image/png": "[encoded data removed]",
      "text/plain": [
       "<Figure size 432x288 with 1 Axes>"
      ]
     },
     "metadata": {
      "needs_background": "light"
     },
     "output_type": "display_data"
    }
   ],
   "source": [
    "ENTRY = 299999\n",
    "ds = H5Dataset(DATA_DIRS,flavour='100k.h5')\n",
    "print(len(ds),'total events are loaded!')\n",
    "# Access an index\n",
    "data,label,idx = ds[ENTRY]\n",
    "# Data shape\n",
    "print('Entry',ENTRY,'... label:',label,'... data shape:',data.shape)\n",
    "# Visualize\n",
    "plt.imshow(data[:,:,0])\n",
    "plt.show()"
   ]
  },
  {
   "cell_type": "markdown",
   "metadata": {},
   "source": [
    "Access \"5th event\" and visualize"
   ]
  },
  {
   "cell_type": "markdown",
   "metadata": {},
   "source": [
    "Now we can define the dataloader."
   ]
  },
  {
   "cell_type": "code",
   "execution_count": 7,
   "metadata": {},
   "outputs": [],
   "source": [
    "loader = DataLoader(ds,\n",
    "                    batch_size=5, # set the batch size = 5\n",
    "                    shuffle=True,  # enable randomization of samples in a batch\n",
    "                    num_workers=1, # number of workers to parallelize data streaming\n",
    "                    collate_fn=HKCollate # collation method\n",
    "                   )"
   ]
  },
  {
   "cell_type": "markdown",
   "metadata": {},
   "source": [
    "Here's how you can loop over 10 batch samples"
   ]
  },
  {
   "cell_type": "code",
   "execution_count": 8,
   "metadata": {},
   "outputs": [],
   "source": [
    "def loop(loader,loop_limit=3):\n",
    "\n",
    "    # Let's measure time that takes in each loop\n",
    "    trecord = np.zeros([loop_limit],dtype=np.float32)\n",
    "    t = time.time()\n",
    "    for iteration, batch in enumerate(loader):\n",
    "\n",
    "        data,label,index = batch\n",
    "\n",
    "        # Print out some content info\n",
    "        print('Iteration',iteration,'... time:',time.time()-t,'[s]')\n",
    "        print('    Labels:',label)\n",
    "        print('    Index :',index,'\\n')\n",
    "        trecord[iteration] = time.time() - t\n",
    "        t = time.time()\n",
    "\n",
    "        # break when reaching the loop limit\n",
    "        if (iteration+1) == loop_limit:\n",
    "            break\n",
    "    return trecord"
   ]
  },
  {
   "cell_type": "markdown",
   "metadata": {},
   "source": [
    "Let's try running data loader for 5 events"
   ]
  },
  {
   "cell_type": "code",
   "execution_count": 9,
   "metadata": {},
   "outputs": [
    {
     "name": "stdout",
     "output_type": "stream",
     "text": [
      "Iteration 0 ... time: 4.7319290638 [s]\n",
      "    Labels: [1, 1, 1, 0, 2]\n",
      "    Index : [291915, 568804, 543959, 2254332, 1844292] \n",
      "\n",
      "Iteration 1 ... time: 4.53579282761 [s]\n",
      "    Labels: [1, 1, 0, 0, 2]\n",
      "    Index : [487496, 845954, 3033952, 2688582, 1627776] \n",
      "\n",
      "Iteration 2 ... time: 4.52432894707 [s]\n",
      "    Labels: [2, 0, 0, 0, 0]\n",
      "    Index : [1804856, 2779690, 2769579, 3166423, 2474419] \n",
      "\n",
      "Iteration 3 ... time: 4.5158200264 [s]\n",
      "    Labels: [0, 2, 2, 1, 1]\n",
      "    Index : [2582171, 1370242, 1829646, 822816, 38969] \n",
      "\n",
      "Iteration 4 ... time: 4.4926879406 [s]\n",
      "    Labels: [2, 0, 2, 2, 0]\n",
      "    Index : [1806705, 2665824, 1269820, 1501793, 2848264] \n",
      "\n",
      "Overall average iteration time: 4.5616446 [s]\n",
      "First event     iteration time: 4.7342234 [s]\n",
      "After first event average time: 4.5184994 [s]\n"
     ]
    }
   ],
   "source": [
    "time_record = loop(loader,5)\n",
    "print('Overall average iteration time:',time_record.mean(),'[s]')\n",
    "print('First event     iteration time:',time_record[0],    '[s]')\n",
    "print('After first event average time:',time_record[1:].mean(),'[s]')"
   ]
  },
  {
   "cell_type": "markdown",
   "metadata": {},
   "source": [
    "... that was SO SLOW! I hope you have not yet thrown your laptop yet ;) This slow speed is due to the fact that, for each event, we are performing file open & close. This is very inefficient.\n",
    "\n",
    "## _Faster_ data streaming\n",
    "\n",
    "There are three possible solutions to an issue of slow data streaming. \n",
    "0. read ALL data in the RAM upfront (e.g. creation of `Dataset`)\n",
    "1. increase number of _workers_ to read data (i.e. parallelization)\n",
    "2. combination of 0 and 1: employ parallelization while utilizing some data cache in RAM\n",
    "\n",
    "The first and last methods are bounded by the size of RAM memory availability. Here, we try the option 1. This can be done by specifying _num workers_ argument value at the construction of `DataLoader`."
   ]
  },
  {
   "cell_type": "code",
   "execution_count": 17,
   "metadata": {},
   "outputs": [
    {
     "name": "stdout",
     "output_type": "stream",
     "text": [
      "Iteration 0 ... time: 21.5281150341 [s]\n",
      "    Labels: [2, 0, 1, 1, 0]\n",
      "    Index : [1424935, 2434870, 215074, 408486, 2634047] \n",
      "\n",
      "Iteration 1 ... time: 3.50475311279e-05 [s]\n",
      "    Labels: [0, 2, 0, 1, 2]\n",
      "    Index : [2841985, 2121443, 2798182, 1097064, 1359555] \n",
      "\n",
      "Iteration 2 ... time: 0.598119020462 [s]\n",
      "    Labels: [1, 0, 1, 0, 2]\n",
      "    Index : [185969, 2867488, 709325, 2212701, 1470174] \n",
      "\n",
      "Iteration 3 ... time: 3.09944152832e-05 [s]\n",
      "    Labels: [2, 1, 1, 2, 0]\n",
      "    Index : [1423893, 484411, 945071, 1762159, 3281448] \n",
      "\n",
      "Iteration 4 ... time: 3.38554382324e-05 [s]\n",
      "    Labels: [2, 2, 1, 0, 0]\n",
      "    Index : [1605598, 1789078, 196569, 2266440, 3163785] \n",
      "\n",
      "Iteration 5 ... time: 2.40802764893e-05 [s]\n",
      "    Labels: [0, 1, 1, 1, 0]\n",
      "    Index : [2787802, 757245, 360046, 358952, 3228577] \n",
      "\n",
      "Iteration 6 ... time: 2.8133392334e-05 [s]\n",
      "    Labels: [1, 0, 1, 1, 2]\n",
      "    Index : [713669, 2262305, 24289, 527451, 1905482] \n",
      "\n",
      "Iteration 7 ... time: 2.78949737549e-05 [s]\n",
      "    Labels: [0, 1, 2, 1, 2]\n",
      "    Index : [3166111, 1057634, 1123558, 24150, 1851919] \n",
      "\n",
      "Iteration 8 ... time: 2.59876251221e-05 [s]\n",
      "    Labels: [0, 2, 0, 1, 1]\n",
      "    Index : [3287048, 1772377, 2857471, 10976, 674630] \n",
      "\n",
      "Iteration 9 ... time: 6.29425048828e-05 [s]\n",
      "    Labels: [2, 2, 1, 2, 0]\n",
      "    Index : [2109957, 1709253, 418916, 1333260, 2746287] \n",
      "\n",
      "Overall average iteration time: 2.21361 [s]\n",
      "First event     iteration time: 21.529593 [s]\n",
      "After first event average time: 0.06738986 [s]\n"
     ]
    }
   ],
   "source": [
    "loader = DataLoader(ds,\n",
    "                    batch_size=5, # set the batch size = 5\n",
    "                    shuffle=True,  # enable randomization of samples in a batch\n",
    "                    num_workers=15, # number of workers to parallelize data streaming\n",
    "                    collate_fn=HKCollate # collation method\n",
    "                   )\n",
    "time_record = loop(loader,10)\n",
    "print('Overall average iteration time:',time_record.mean(),'[s]')\n",
    "print('First event     iteration time:',time_record[0],    '[s]')\n",
    "print('After first event average time:',time_record[1:].mean(),'[s]')"
   ]
  },
  {
   "cell_type": "markdown",
   "metadata": {},
   "source": [
    "The first event takes some time. This is because all workers are initiated and nothing is read yet. However, while 5 workers are reading 5 events to form the first batch, 10 other workers are reading data in parallel and store in a buffer. From the second event and onwards, data in a buffer is loaded (i.e. faster data streaming). At some point, parllel workers and data query will balance out and the speed reaches an equilibrium. You have a good solution when the data streaming speed at the equilibrium is much smaller than the time it takes to consume data, which is an algorithm training step to consume 1 batch of data.\n",
    "\n",
    "## Fasteeeerrr way\n",
    "Can we do better? We certainly can! and it is good to care: the data streaming speed is one of a typical bottleneck in developing ML applications. The best performance can be achieved with the option _2. employ parallelization while utilizing some data cache in RAM_. You can implement this by yourself, or partially borrow features from awesome software libraries. One of those is [`HDF5`](https://www.hdfgroup.org/), which has been accepted as a solution for challenges at a varying scale, from a small project on a laptop to a large-scale distributed computing at High Performance Computing clusters. \n",
    "\n",
    "The workshop data is available in `HDF5` format (with `.h5` file extension). Accessing HDF5 file can be easily done using `h5py` module."
   ]
  },
  {
   "cell_type": "code",
   "execution_count": 18,
   "metadata": {},
   "outputs": [
    {
     "name": "stdout",
     "output_type": "stream",
     "text": [
      "directions ... Shape (100000, 1, 3)\n",
      "energies ... Shape (100000, 1)\n",
      "event_data ... Shape (100000, 88, 168, 2)\n",
      "labels ... Shape (100000,)\n",
      "pids ... Shape (100000, 1)\n",
      "positions ... Shape (100000, 1, 3)\n"
     ]
    }
   ],
   "source": [
    "import h5py\n",
    "# Open a file\n",
    "f = h5py.File('/data/hkml_data/IWCDgrid/varyE/e-/IWCDgrid_varyE_e-_R0cm_20-2000MeV_100k.h5', mode='r')\n",
    "# List keys\n",
    "for key in f.keys():\n",
    "    print('%s ... Shape %s' % (key, str(f[key].shape)))"
   ]
  },
  {
   "cell_type": "markdown",
   "metadata": {},
   "source": [
    "Let's define `Dataset` that accesses `h5` files."
   ]
  },
  {
   "cell_type": "code",
   "execution_count": 19,
   "metadata": {},
   "outputs": [],
   "source": [
    "class H5Dataset(Dataset):\n",
    "\n",
    "    def __init__(self, data_dirs, transform=None, flavour=None, limit_num_files=0, start_fraction=0., use_fraction=1.0):\n",
    "        \"\"\"                               \n",
    "        \n",
    "        Args: data_dirs ... a list of data directories to find files (up to 10 files read from each dir)                                                \n",
    "              transform ... a function applied to pre-process data                                                                                      \n",
    "              flavour ..... a string that is required to be present in the filename                                                                     \n",
    "              limit_num_files ... an integer limiting number of files to be taken per data directory                                                    \n",
    "              start_fraction ... a floating point fraction (0.0=>1.0) to specify which entry to start reading (per file)                                \n",
    "              use_fraction ..... a floating point fraction (0.0=>1.0) to specify how much fraction of a file to be read out (per file)                  \n",
    "        \"\"\"\n",
    "        self._transform = transform\n",
    "        self._files = []\n",
    "\n",
    "        # Check input fractions makes sense                                                                                                             \n",
    "        assert start_fraction >= 0. and start_fraction < 1.\n",
    "        assert use_fraction > 0. and use_fraction <= 1.\n",
    "        assert (start_fraction + use_fraction) <= 1.\n",
    "\n",
    "        # Load files (up to 10) from each directory in data_dirs list                                                                                   \n",
    "        for d in data_dirs:\n",
    "            file_list = [ os.path.join(d,f) for f in os.listdir(d) if flavour is None or flavour in f ]\n",
    "            if limit_num_files: file_list = file_list[0:limit_num_files]\n",
    "            self._files += file_list\n",
    "\n",
    "        self._file_handles = [None] * len(self._files)\n",
    "        self._event_to_file_index  = []\n",
    "        self._event_to_entry_index = []\n",
    "        import h5py\n",
    "        for file_index, file_name in enumerate(self._files):\n",
    "            f = h5py.File(file_name,mode='r')\n",
    "            data_size = f['event_data'].shape[0]\n",
    "            start_entry = int(start_fraction * data_size)\n",
    "            num_entries = int(use_fraction * data_size)\n",
    "            self._event_to_file_index += [file_index] * num_entries\n",
    "            self._event_to_entry_index += range(start_entry, start_entry+num_entries)\n",
    "            f.close()\n",
    "\n",
    "    def __len__(self):\n",
    "        return len(self._event_to_file_index)\n",
    "\n",
    "    def __getitem__(self,idx):\n",
    "        file_index = self._event_to_file_index[idx]\n",
    "        entry_index = self._event_to_entry_index[idx]\n",
    "        if self._file_handles[file_index] is None:\n",
    "            import h5py\n",
    "            self._file_handles[file_index] = h5py.File(self._files[file_index],mode='r')\n",
    "        fh = self._file_handles[file_index]\n",
    "        return fh['event_data'][entry_index],fh['labels'][entry_index],idx"
   ]
  },
  {
   "cell_type": "markdown",
   "metadata": {},
   "source": [
    "Let's create `Dataset` instance and try accessing an entry, just like how we did before for `.npz` files."
   ]
  },
  {
   "cell_type": "code",
   "execution_count": 13,
   "metadata": {},
   "outputs": [
    {
     "name": "stdout",
     "output_type": "stream",
     "text": [
      "300000 total events are loaded!\n",
      "Entry 5 ... label: 1.0 ... data shape: (88, 168, 2)\n"
     ]
    },
    {
     "data": {
      "image/png": "[encoded data removed]",
      "text/plain": [
       "<Figure size 432x288 with 1 Axes>"
      ]
     },
     "metadata": {
      "needs_background": "light"
     },
     "output_type": "display_data"
    }
   ],
   "source": [
    "ds = H5Dataset(DATA_DIRS,flavour='100k.h5')\n",
    "print(len(ds),'total events are loaded!')\n",
    "# Access an index\n",
    "data,label,idx = ds[ENTRY]\n",
    "# Data shape\n",
    "print('Entry',ENTRY,'... label:',label,'... data shape:',data.shape)\n",
    "# Visualize\n",
    "plt.imshow(data[:,:,0])\n",
    "plt.show()"
   ]
  },
  {
   "cell_type": "markdown",
   "metadata": {},
   "source": [
    "Let's test how much faster it can be:"
   ]
  },
  {
   "cell_type": "code",
   "execution_count": 14,
   "metadata": {},
   "outputs": [
    {
     "name": "stdout",
     "output_type": "stream",
     "text": [
      "Iteration 0 ... time: 0.0576930046082 [s]\n",
      "    Labels: [0.0, 2.0, 2.0, 2.0, 0.0]\n",
      "    Index : [289258, 152784, 140551, 138013, 276611] \n",
      "\n",
      "Iteration 1 ... time: 0.000949859619141 [s]\n",
      "    Labels: [1.0, 0.0, 2.0, 1.0, 2.0]\n",
      "    Index : [92912, 291664, 145655, 45847, 175040] \n",
      "\n",
      "Iteration 2 ... time: 0.0260651111603 [s]\n",
      "    Labels: [2.0, 2.0, 1.0, 1.0, 1.0]\n",
      "    Index : [141712, 179878, 82490, 89560, 50964] \n",
      "\n",
      "Iteration 3 ... time: 0.000847101211548 [s]\n",
      "    Labels: [0.0, 1.0, 0.0, 0.0, 0.0]\n",
      "    Index : [205889, 74509, 216278, 242041, 248335] \n",
      "\n",
      "Iteration 4 ... time: 0.0270299911499 [s]\n",
      "    Labels: [1.0, 0.0, 1.0, 0.0, 2.0]\n",
      "    Index : [99717, 273419, 250, 205020, 191003] \n",
      "\n",
      "Iteration 5 ... time: 0.000716924667358 [s]\n",
      "    Labels: [1.0, 0.0, 0.0, 1.0, 0.0]\n",
      "    Index : [94485, 245394, 297184, 53755, 295885] \n",
      "\n",
      "Iteration 6 ... time: 0.0212218761444 [s]\n",
      "    Labels: [2.0, 1.0, 1.0, 2.0, 1.0]\n",
      "    Index : [163758, 94070, 72157, 194761, 84368] \n",
      "\n",
      "Iteration 7 ... time: 0.000784873962402 [s]\n",
      "    Labels: [2.0, 2.0, 2.0, 2.0, 2.0]\n",
      "    Index : [192453, 196700, 190904, 118365, 192603] \n",
      "\n",
      "Iteration 8 ... time: 0.0143160820007 [s]\n",
      "    Labels: [0.0, 1.0, 1.0, 2.0, 0.0]\n",
      "    Index : [201327, 70182, 46174, 198667, 203561] \n",
      "\n",
      "Iteration 9 ... time: 0.0217099189758 [s]\n",
      "    Labels: [1.0, 2.0, 2.0, 2.0, 0.0]\n",
      "    Index : [47724, 186208, 162017, 109001, 218221] \n",
      "\n",
      "Overall average iteration time: 0.018438864 [s]\n",
      "First event     iteration time: 0.059001923 [s]\n",
      "After first event average time: 0.013931857 [s]\n"
     ]
    }
   ],
   "source": [
    "loader = DataLoader(ds,\n",
    "                    batch_size=5,  # set the batch size = 50\n",
    "                    shuffle=True,  # enable randomization of samples in a batch\n",
    "                    num_workers=1, # number of workers to parallelize data streaming\n",
    "                    collate_fn=HKCollate # collation method\n",
    "                   )\n",
    "time_record = loop(loader,10)\n",
    "print('Overall average iteration time:',time_record.mean(),'[s]')\n",
    "print('First event     iteration time:',time_record[0],    '[s]')\n",
    "print('After first event average time:',time_record[1:].mean(),'[s]')"
   ]
  },
  {
   "cell_type": "markdown",
   "metadata": {},
   "source": [
    "... which is indeed orders of magnitude faster!\n",
    "\n",
    "### Why only 1 worker?\n",
    "Well, my fault: it is not possible (or practically hard) to support multiple reader processes for HDF5 files in python 2.7. It is my fault for not using Python3 in a workshop like this in 2019 :( See single-writer-multiple-reader (SWMR) discussion here: https://github.com/pytorch/pytorch/issues/3415#issuecomment-341079534\n",
    "\n",
    "### Closing remark\n",
    "\n",
    "This point of this exercise is to see how much difference in data streaming speed you can make. When combined with GPU, moving data from CPU RAM to GPU is another important point to care (i.e. a good practice can get you factors or even an order of magnitude speed up). Training a ML algorithm involves a large dataset that cannot all fit in RAM, and there will be many, many random order data access. The speed of streaming data directly affects time it takes to run your ML algorithms. Finally, though we used `HDF5` in this exercise, `ROOT` is not your enemy when it comes to data streaming. It has descent speed as well as flexibility in both data serialization and compression. Many ML applications use `ROOT` data format in HEP.\n",
    "\n",
    "If you have questions/suggestions/concerns, [contact me](mailto:kterao@slac.stanford.edu)!"
   ]
  }
 ],
 "metadata": {
  "kernelspec": {
   "display_name": "Python 2",
   "language": "python",
   "name": "python2"
  },
  "language_info": {
   "codemirror_mode": {
    "name": "ipython",
    "version": 2
   },
   "file_extension": ".py",
   "mimetype": "text/x-python",
   "name": "python",
   "nbconvert_exporter": "python",
   "pygments_lexer": "ipython2",
   "version": "2.7.12"
  }
 },
 "nbformat": 4,
 "nbformat_minor": 2
}
